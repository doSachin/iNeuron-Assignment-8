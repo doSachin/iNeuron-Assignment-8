{
 "cells": [
  {
   "cell_type": "markdown",
   "id": "b264b4c2",
   "metadata": {},
   "source": [
    "<h1 align=\"center\" ><span style=\"color: blue; font-size: 48px; \"><b> Assignment No. 8</b></span></h1>\n",
    "\n",
    "<h1 style=\"font-family: Trebuchet MS; font-size: 14px; color: #34495E; text-align: right; \">Submitted By: Sachin Dodake</h1>\n",
    "\n",
    "<hr style=\"height:3px;border-width:1;color:blue;background-color:blue\">"
   ]
  },
  {
   "cell_type": "markdown",
   "id": "45e1253a",
   "metadata": {},
   "source": [
    " ### 1. In Python, what is the difference between a `built-in function` and a `user-defined function`? Provide an example of each."
   ]
  },
  {
   "cell_type": "markdown",
   "id": "6eb76ef3",
   "metadata": {
    "ExecuteTime": {
     "end_time": "2023-06-20T17:48:05.949875Z",
     "start_time": "2023-06-20T17:48:05.934876Z"
    }
   },
   "source": [
    "**`Ans-1`**\n",
    "\n",
    "> **`Functions:`**\n",
    ">- A function is a set of statements that take inputs, do some specific computation and produce output. The idea is to put some commonly or repeatedly done tasks together and make a function so that instead of writing the same code again and again for different inputs, we can call the function.\n",
    ">- Functions that readily comes with Python are called `built-in functions`. We can also create your own functions, and these functions are known as `user defines functions`.\n",
    "\n",
    "> **`i) Built-in-Functions:`**\n",
    ">- The Built-in functions are already defined in python. A user has to remember the name and parameters of a particular function. Since these functions are pre-defined, there is no need to define them again.\n",
    ">- The Python interpreter has a number of functions that are always available for use. These functions are called built-in functions. For example, print() function prints the given object to the standard output device (screen) or to the text stream file.\n",
    ">- **Example:**"
   ]
  },
  {
   "cell_type": "code",
   "execution_count": 6,
   "id": "8c92478d",
   "metadata": {
    "ExecuteTime": {
     "end_time": "2023-06-20T18:00:05.050896Z",
     "start_time": "2023-06-20T18:00:05.029972Z"
    }
   },
   "outputs": [
    {
     "name": "stdout",
     "output_type": "stream",
     "text": [
      "Length of string is: 5\n",
      "Maximum number in list is: 43\n",
      "Type is: <class 'list'>\n"
     ]
    }
   ],
   "source": [
    "# Explaination of built-in-function\n",
    "\n",
    "num_list = [2, 5, 19, 7, 43]\n",
    "\n",
    "print(f\"Length of string is: {len(num_list)}\")                 # to check length of list\n",
    "print(f\"Maximum number in list is: {max(num_list)}\")    # to check maximum num from list\n",
    "print(f\"Type is: {type(num_list)}\")                                          # to check type of list\n"
   ]
  },
  {
   "cell_type": "markdown",
   "id": "f5d26a16",
   "metadata": {
    "ExecuteTime": {
     "end_time": "2023-06-20T17:48:05.949875Z",
     "start_time": "2023-06-20T17:48:05.934876Z"
    }
   },
   "source": [
    "> **`ii) User-in-Functions:`**\n",
    ">- Functions that we define ourselves to do the certain specific task are referred to as user-defined functions. The way in which we define and call functions in Python are already discussed.\n",
    ">- Functions that readily come with Python are called built-in functions. If we use functions written by others in the form of the library, it can be termed as library functions.\n",
    ">- All the other functions that we write on our own fall under user-defined functions. So, our user-defined function could be a library function to someone else.\n",
    ">- **Example:**"
   ]
  },
  {
   "cell_type": "code",
   "execution_count": 10,
   "id": "42567d17",
   "metadata": {
    "ExecuteTime": {
     "end_time": "2023-06-20T18:15:06.479822Z",
     "start_time": "2023-06-20T18:15:06.464817Z"
    }
   },
   "outputs": [
    {
     "name": "stdout",
     "output_type": "stream",
     "text": [
      "The sum of '5' & '6 is : 11\n"
     ]
    }
   ],
   "source": [
    "# # Explaination of user-defined functions\n",
    " \n",
    "def add_numbers(x,y):               # defining a function \n",
    "    '''This function will be used to add the two numbers'''      # docstring to explain working on function\n",
    "    sum = x + y          #  defining a sum variable\n",
    "    return sum       # returning value of  variable sum\n",
    " \n",
    "num1 = 5\n",
    "num2 = 6\n",
    " \n",
    "print(f\"The sum of '{num1}' & '{num2} is : {add_numbers(num1, num2)}\")"
   ]
  },
  {
   "cell_type": "markdown",
   "id": "7b3f487d",
   "metadata": {},
   "source": [
    " ### 2. How can you `pass arguments to a function` in Python? Explain the difference between `positional arguments` and `keyword arguments`."
   ]
  },
  {
   "cell_type": "markdown",
   "id": "efb3d16a",
   "metadata": {},
   "source": [
    "**`Ans-2:`**\n",
    "\n",
    "> **`Arguments:`**\n",
    ">- When we define and call a Python function, the term `parameter` and `argument` is used to pass information to the function.\n",
    "        Parameter: It is the variable listed inside the parentheses in the function definition.\n",
    "        Argument: It is a value sent to the function when it is called. It is data on which function performs some action and returns the result.\n",
    ">- `Parameters` are inside functions or procedures, while `arguments` are used in procedure calls, i.e. the values passed to the function at run-time.\n",
    ">- It is not mandatory to use arguments in function definition. But if you need to process user data, you need arguments in the function definition to accept that data. Also, we use argument in function definition when we need to perform the same task multiple times with different data.   \n",
    ">- If the function is defined with parameters, the arguments passed must match one of the arguments the function accepts when calling.    \n",
    ">- There are various ways to use arguments in a function. In Python, we have the following 4 types of function arguments.\n",
    "        i) Default argument\n",
    "        ii) Keyword arguments (named arguments)\n",
    "        iii) Positional arguments\n",
    "        iv) Arbitrary arguments (variable-length arguments *args and **kwargs)\n",
    "        \n",
    "> **`Passing Arguements to Function:`**\n",
    ">- We can pass multiple arguments to a python function by predetermining the formal parameters in the function definition. \n",
    "\n",
    "\n",
    "> **`Positional arguments:`**\n",
    ">- An argument is a variable, value or object passed to a function or method as input. Positional arguments are arguments that need to be included in the proper position or order.\n",
    ">- The first positional argument always needs to be listed first when the function is called. The second positional argument needs to be listed second and the third positional argument listed third, etc.\n",
    ">- **Syntax:**\n",
    "            function_name(value1, value2, value3,.....)\n",
    ">- **Example:** The best exapmple is python's `complex() function`. This function returns a complex number with a `real term` and `an imaginary term`. The order that numbers are passed to the `complex() function` determines which number is the `real term` and which number is the `imaginary term`. If the complex number 3 + 5j is created, the two positional arguments are the numbers 3 and 5. As positional arguments, 3 must be listed first, and 5 must be listed second."
   ]
  },
  {
   "cell_type": "code",
   "execution_count": 19,
   "id": "14962f60",
   "metadata": {
    "ExecuteTime": {
     "end_time": "2023-06-20T18:52:17.765482Z",
     "start_time": "2023-06-20T18:52:17.754289Z"
    }
   },
   "outputs": [
    {
     "name": "stdout",
     "output_type": "stream",
     "text": [
      "Case-1:\n",
      "Hi, I am Sachin.\n",
      "My age is 20. \n",
      "\n",
      "Case-2:\n",
      "Hi, I am 30.\n",
      "My age is Vicky. \n"
     ]
    }
   ],
   "source": [
    "def nameAge(name, age):\n",
    "    print(f\"Hi, I am {name}.\")\n",
    "    print(f\"My age is {age}. \")\n",
    "\n",
    "# We will get correct output because argument is given in order\n",
    "print(\"Case-1:\")\n",
    "nameAge(\"Sachin\", 20)\n",
    "\n",
    "# We will get incorrect output because argument is not in order\n",
    "print(\"\\nCase-2:\")\n",
    "nameAge(30, \"Vicky\")\n"
   ]
  },
  {
   "cell_type": "markdown",
   "id": "0bd45368",
   "metadata": {},
   "source": [
    "> **`Keyword arguments:`**\n",
    ">- A keyword argument is an argument passed to a function or method which is preceded by a keyword and an equals sign. \n",
    ">- **Syntax:**\n",
    "            function_name(parameterName1 = value1, parameterName2 = value1)\n",
    ">-  **Example:** Python’s `complex() function` can also accept two `keyword arguments`. The two keyword arguments are real= and imag=. To create the complex number 3 + 5j the 3 and 5 can be passed to the function as the values assigned to the keyword arguments real= and imag=."
   ]
  },
  {
   "cell_type": "code",
   "execution_count": 21,
   "id": "ed15b5dd",
   "metadata": {
    "ExecuteTime": {
     "end_time": "2023-06-20T18:52:47.014587Z",
     "start_time": "2023-06-20T18:52:46.997046Z"
    }
   },
   "outputs": [
    {
     "name": "stdout",
     "output_type": "stream",
     "text": [
      "Case-1:\n",
      "Hi, I am Sachin.\n",
      "My age is 20. \n",
      "\n",
      "Case-2:\n",
      "Hi, I am Vicky.\n",
      "My age is 30. \n"
     ]
    }
   ],
   "source": [
    "def nameAge(name, age):\n",
    "    print(f\"Hi, I am {name}.\")\n",
    "    print(f\"My age is {age}. \")\n",
    "\n",
    "print(\"Case-1:\")        # there will o efect on output even if the order is different\n",
    "nameAge(name=\"Sachin\", age=20)\n",
    "\n",
    "print(\"\\nCase-2:\")           # there will o efect on output even if the order is different\n",
    "nameAge(age=30, name=\"Vicky\")\n"
   ]
  },
  {
   "cell_type": "markdown",
   "id": "8100fd49",
   "metadata": {
    "ExecuteTime": {
     "end_time": "2023-06-20T17:26:56.417411Z",
     "start_time": "2023-06-20T17:26:56.399503Z"
    }
   },
   "source": [
    " ### 3. What is the purpose of the return statement in a function? Can a function have multiple return statements? Explain with an example."
   ]
  },
  {
   "cell_type": "markdown",
   "id": "25287e62",
   "metadata": {},
   "source": [
    "**`Ans-3`**\n",
    "> **`return-statement:`**\n",
    ">- The Python `return statement` is a special statement that you can use inside a function or method to send the function’s result back to the caller. A `return statement` consists of the return keyword followed by an optional return value.\n",
    ">- The `return value` of a Python function can be any Python object. Everything in Python is an object. So, your functions can return numeric values (int, float, and complex values), collections and sequences of objects (list, tuple, dictionary, or set objects), user-defined objects, classes, functions, and even modules or packages.\n",
    ">- We can omit the return value of a function and use a bare return without a return value. You can also omit the entire return statement. In both cases, the return value will be `None`.\n",
    ">-  **Example:**  The examples with and without return statements are as below:\n",
    "\n",
    "\n"
   ]
  },
  {
   "cell_type": "code",
   "execution_count": 6,
   "id": "734cdad4",
   "metadata": {
    "ExecuteTime": {
     "end_time": "2023-06-21T04:15:48.987517Z",
     "start_time": "2023-06-21T04:15:48.969672Z"
    }
   },
   "outputs": [
    {
     "name": "stdout",
     "output_type": "stream",
     "text": [
      "Printing: Hello World !\n",
      "\n",
      "Output without return statement:\n",
      "\tA function without return statement returns:  None\n",
      "\n",
      "Output with return statement:\n",
      "\tThe result of `add(5, 4)` function is :  9\n"
     ]
    }
   ],
   "source": [
    "# Example on Function without return statement\n",
    "\n",
    "def print_something(a):\n",
    "    print(f\"Printing: {a}\")\n",
    "\n",
    "output = print_something('Hello World !')\n",
    "\n",
    "print(f\"\\nOutput without return statement:\")\n",
    "print(f\"\\tA function without return statement returns:  {output}\")\n",
    "\n",
    "\n",
    "# Example on Function without return statement\n",
    "\n",
    "def add(x, y):\n",
    "    result = x + y\n",
    "    return result\n",
    "\n",
    "output = add(5, 4)\n",
    "\n",
    "print(f\"\\nOutput with return statement:\")\n",
    "print(f'\\tThe result of `add(5, 4)` function is :  {output}')"
   ]
  },
  {
   "cell_type": "markdown",
   "id": "af7f0731",
   "metadata": {},
   "source": [
    "> **`Multiple return-Statements:`**\n",
    ">- Python functions are not restricted to having a `single return statement`. If a given function has more than one return statement, then the first one encountered will determine the end of the function’s execution and also its return value.\n",
    ">- A common way of writing functions with multiple return statements is to use conditional statements that allow you to provide different return statements depending on the result of evaluating some conditions.\n",
    ">- **Example:** The example of multiple return statement is as below:"
   ]
  },
  {
   "cell_type": "code",
   "execution_count": 45,
   "id": "45da1de3",
   "metadata": {
    "ExecuteTime": {
     "end_time": "2023-06-20T19:30:31.868050Z",
     "start_time": "2023-06-20T19:30:31.859614Z"
    }
   },
   "outputs": [
    {
     "name": "stdout",
     "output_type": "stream",
     "text": [
      "The given number is : odd.\n"
     ]
    }
   ],
   "source": [
    "def type_of_int(num):\n",
    "    if num % 2 == 0:\n",
    "        return 'even'\n",
    "    else:\n",
    "        return 'odd'\n",
    "\n",
    "result = type_of_int(7)\n",
    " \n",
    "print(f\"The given number is : {result}.\")"
   ]
  },
  {
   "cell_type": "markdown",
   "id": "4b87874d",
   "metadata": {},
   "source": [
    " ### 4. What are lambda functions in Python? How are they different from regular functions? Provide an example where a lambda function can be useful."
   ]
  },
  {
   "cell_type": "markdown",
   "id": "49ac8f67",
   "metadata": {},
   "source": [
    "**`Ans-4`**\n",
    "\n",
    "> **`Lambda Function:`**\n",
    ">- A `lambda function` is an anonymous function (i.e., defined without a name) that can take any number of arguments but, unlike normal functions, evaluates and returns only one expression.\n",
    ">- Python `Lambda Functions` are anonymous function means that the function is without a name. As we already know that the def keyword is used to define a normal function in Python. Similarly, the lambda keyword is used to define an anonymous function in Python. \n",
    ">- **Syntax:**\n",
    "            lambda p1, p2: expression\n",
    "                        p1- parameter1 to pass in lambda function\n",
    "                        p2- parameter2 to pass in lambda function                      \n",
    ">- The anatomy of a lambda function includes three elements:\n",
    "            The keyword lambda — an analog of def in normal functions\n",
    "            The parameters — support passing positional and keyword arguments, just like normal functions\n",
    "            The body — the expression for given parameters being evaluated with the lambda function                       \n",
    "                        "
   ]
  },
  {
   "cell_type": "code",
   "execution_count": 51,
   "id": "46a111eb",
   "metadata": {
    "ExecuteTime": {
     "end_time": "2023-06-20T19:56:41.038206Z",
     "start_time": "2023-06-20T19:56:41.016520Z"
    }
   },
   "outputs": [
    {
     "name": "stdout",
     "output_type": "stream",
     "text": [
      "The multiplication using `Lambda Function` is : 30\n"
     ]
    }
   ],
   "source": [
    "# Exaplaination on Lambda function to Multiply argument a with argument b and return the result:\n",
    "\n",
    "multi = lambda a, b : a * b\n",
    "\n",
    "print(f\"The multiplication using `Lambda Function` is : {multi(5, 6)}\")"
   ]
  },
  {
   "cell_type": "markdown",
   "id": "9c3759c7",
   "metadata": {},
   "source": [
    "                        \n",
    "> **Regular Function-Vs-Lambda Function:**\n",
    ">- **`Syntax:`** Lambda functions are written in a single line of code, whereas regular functions defined with def can span multiple lines. \n",
    ">- **`Function Name:`** Lambda functions do not have a name, whereas regular functions defined with def have a name. \n",
    ">- **`Return Statement:`** Lambda functions automatically return the result of the expression they evaluate, while regular functions defined with def require an explicit return statement to return a value. \n",
    ">- **`Arguments:`** Both types of functions can take any number of arguments, but lambda functions are typically used for simple, one-line expressions with one or two arguments. \n",
    ">- **`Functionality:`** Regular functions defined with def can include complex logic, including flow control statements (such as if and while), error handling, and more complex calculations. Lambda functions are typically used for simple operations, such as filtering, mapping, or reducing data.\n",
    ">-  **Example:** The examples of `Lambda` & `Regular` function are as below:"
   ]
  },
  {
   "cell_type": "code",
   "execution_count": 49,
   "id": "cf7c971c",
   "metadata": {
    "ExecuteTime": {
     "end_time": "2023-06-20T19:53:59.057054Z",
     "start_time": "2023-06-20T19:53:59.043002Z"
    }
   },
   "outputs": [
    {
     "name": "stdout",
     "output_type": "stream",
     "text": [
      "The result using 'Lambda' function is : 5\n",
      "\n",
      "The result using 'Regular' function is : 5\n"
     ]
    }
   ],
   "source": [
    "#  Explaination of Lambda function that adds two numbers \n",
    "add_lambda = lambda x, y: x + y \n",
    "\n",
    "# Explaination of Regular function that adds two numbers \n",
    "def add_def(x, y):     \n",
    "    return x + y \n",
    "\n",
    "# Calling the functions \n",
    "print(f\"The result using 'Lambda' function is : {add_lambda(2, 3)}\") \n",
    "print(f\"\\nThe result using 'Regular' function is : {add_def(2, 3)}\")   "
   ]
  },
  {
   "cell_type": "markdown",
   "id": "56a5d15c",
   "metadata": {},
   "source": [
    " ### 5. How does the concept of \"scope\" apply to functions in Python? Explain the difference between local scope and global scope."
   ]
  },
  {
   "cell_type": "markdown",
   "id": "f5cd8db8",
   "metadata": {},
   "source": [
    "**`Ans-5`**\n",
    "\n",
    "> **`Python Scope:`**\n",
    ">- The scope defines the accessibility of the python **object**. \n",
    ">- To access the particular variable in the code, the scope must be defined as it cannot be accessed from anywhere in the program. The particular coding region where variables are visible is known as scope. \n",
    ">- Variables are not visible to the entire code; their visibility can be restricted. Scope verifies which variable can be ‘Seen’.\n",
    ">- The `scope` defines the set of rules which tell us how and where a variable can be searched. The variable is searched either to retrieve a value or for assigning value.  The `namespace` is the unique identification of the variable or the method. \n",
    ">- `Namespace` tells the python interpreter about the name of the object and the location from where it is trying to access it.\n",
    ">- The various types of Python Scopes are listed below:\n",
    "            i) Local Scope- The local, or function-level, scope, which exists inside functions.\n",
    "            ii) Global Scope - The global scope, which exists at the module level\n",
    "            iii) Enclosing Scope or NonLocal- The enclosing, or non-local, scope, which appears in nested functions\n",
    "            iv) Built-in Scope - The built-in scope, which is a special scope for Python’s built-in names\n",
    ">- The `Namespaces` are searched for scope resolution according to the **`LEGB`** rule. The sequence of **LEGB** is important. The variable is first searched in Local, followed by Enclosed, then global and finally built-in.\n",
    ">- The LEGB stands for **`L`: Local**, **`E`: Enclosed**, **`G`: Global**, **`B`: Built-in**. "
   ]
  },
  {
   "cell_type": "markdown",
   "id": "a80007c7",
   "metadata": {},
   "source": [
    "> **`i) Local Scope:`**\n",
    ">- The Variables which are defined in the function are a **`local scope of the variable`**. \n",
    ">- The Local scope variables are defined in the function body. \n",
    "\n",
    ">- **Example:** Let’s us consider an example, we have taken one variables `num_1= 111` outside the function, and `num_2 = 222`  inside the function, so it is not a local variable.  As per our definition, the variables which are declared inside the function body is a local variable. Here, `num_2= 222` is a local variable that is declared and printed inside the function`local_test`. But when trying to access `num_2 = 222`and then print the same variable from outside the function ie print(num_2), it raised a NameError. This is because `num_2 = 222` is local to the function - thus, it cannot be reached from outside the function body."
   ]
  },
  {
   "cell_type": "code",
   "execution_count": 52,
   "id": "82ae3e83",
   "metadata": {
    "ExecuteTime": {
     "end_time": "2023-06-20T20:02:29.219470Z",
     "start_time": "2023-06-20T20:02:29.188470Z"
    }
   },
   "outputs": [
    {
     "name": "stdout",
     "output_type": "stream",
     "text": [
      "Local variable value is: 222\n"
     ]
    },
    {
     "ename": "NameError",
     "evalue": "name 'num_2' is not defined",
     "output_type": "error",
     "traceback": [
      "\u001b[1;31m---------------------------------------------------------------------------\u001b[0m",
      "\u001b[1;31mNameError\u001b[0m                                 Traceback (most recent call last)",
      "Input \u001b[1;32mIn [52]\u001b[0m, in \u001b[0;36m<cell line: 10>\u001b[1;34m()\u001b[0m\n\u001b[0;32m      6\u001b[0m     \u001b[38;5;28mprint\u001b[39m(\u001b[38;5;124m\"\u001b[39m\u001b[38;5;124mLocal variable value is:\u001b[39m\u001b[38;5;124m\"\u001b[39m,num_2)           \u001b[38;5;66;03m# accessing local variable num_2inside function\u001b[39;00m\n\u001b[0;32m      8\u001b[0m local_test()                        \u001b[38;5;66;03m# calling function `local_test`\u001b[39;00m\n\u001b[1;32m---> 10\u001b[0m \u001b[38;5;28mprint\u001b[39m(\u001b[43mnum_2\u001b[49m)\n",
      "\u001b[1;31mNameError\u001b[0m: name 'num_2' is not defined"
     ]
    }
   ],
   "source": [
    "# eample-1: explaination of local variable inside function\n",
    "\n",
    "num_1= 111                          # defining global variable\n",
    "def local_test():                   # defining function\n",
    "    num_2 = 222                    #  defining local variable\n",
    "    print(\"Local variable value is:\",num_2)           # accessing local variable num_2inside function\n",
    "\n",
    "local_test()                        # calling function `local_test`\n",
    "\n",
    "print(num_2)                   # We can not access local variable outside function, it will show error as below"
   ]
  },
  {
   "cell_type": "markdown",
   "id": "71a5817d",
   "metadata": {
    "ExecuteTime": {
     "end_time": "2023-06-20T20:02:40.604622Z",
     "start_time": "2023-06-20T20:02:40.590128Z"
    }
   },
   "source": [
    "> **`ii) Global Scope:`**\n",
    ">- The Variable which can be read from anywhere in the program is known as a global scope. \n",
    ">- These variables can be accessed inside and outside the function. When we want to use the same variable in the rest of the program, we declare it as global.\n",
    "\n",
    ">- **Example:** Let us consider an example, we have declared a variable Str, which is outside the function. The function demo is called, and it prints the value of variable Str. To use a global variable inside a function, there is no need to use the global keyword."
   ]
  },
  {
   "cell_type": "code",
   "execution_count": 54,
   "id": "0f553167",
   "metadata": {
    "ExecuteTime": {
     "end_time": "2023-06-20T20:02:49.986658Z",
     "start_time": "2023-06-20T20:02:49.973255Z"
    }
   },
   "outputs": [
    {
     "name": "stdout",
     "output_type": "stream",
     "text": [
      "Global Variable is: 1111\n",
      "Local Variable is: 2222\n",
      "\n",
      "Global Variable is: 1111\n"
     ]
    }
   ],
   "source": [
    "# explaination on global variable\n",
    "num_1 = 1111                              # defining global variable\n",
    "def global_test():\n",
    "    num_2 = 2222                          # defining local variable\n",
    "    print(f\"Global Variable is: {num_1}\")  # accessing local variable inside function\n",
    "    print(f\"Local Variable is: {num_2}\")    # accessing global variable inside function\n",
    "\n",
    "global_test()                                  # calling function\n",
    "\n",
    "print(f\"\\nGlobal Variable is: {num_1}\")   # accessing global variable outside function"
   ]
  },
  {
   "cell_type": "markdown",
   "id": "59f7757d",
   "metadata": {},
   "source": [
    " ### 6. How can you use the \"return\" statement in a Python function to return multiple values?"
   ]
  },
  {
   "cell_type": "markdown",
   "id": "6ad8a0cf",
   "metadata": {},
   "source": [
    "**`Ans-6`**\n",
    "\n",
    ">- Python functions can return multiple values. These values can be stored in variables directly. A function is not restricted to return a variable, it can return zero, one, two or more values.\n",
    ">- For returning multiple values from a function, we can return tuple, list or dictionary object as per our requirement.\n",
    ">- In Python, we can return multiple values from a function in different ways as listed below:\n",
    "        i) Using Object,\n",
    "        ii) Using Tuple,\n",
    "        iii) Using a list,\n",
    "        iv) Using a Dictionary,\n",
    "        v) Using Data Class,\n",
    "        vi) Using generator ‘yield’\n",
    " "
   ]
  },
  {
   "cell_type": "markdown",
   "id": "f9c773c3",
   "metadata": {},
   "source": [
    "       \n",
    ">   **`i) Using Object:`**\n",
    ">- This is similar to C/C++ and Java, we can create a class (in C, struct) to hold multiple values and return an object of the class. \n",
    ">- **Example:**"
   ]
  },
  {
   "cell_type": "code",
   "execution_count": 8,
   "id": "33fa9c0c",
   "metadata": {
    "ExecuteTime": {
     "end_time": "2023-06-21T04:23:57.205618Z",
     "start_time": "2023-06-21T04:23:57.190123Z"
    }
   },
   "outputs": [
    {
     "name": "stdout",
     "output_type": "stream",
     "text": [
      "Python\n",
      "1111\n"
     ]
    }
   ],
   "source": [
    "# A Python program to return multiple values from a method using class\n",
    "class Test:\n",
    "    def __init__(self):\n",
    "        self.str = \"Python\"\n",
    "        self.x = 1111\n",
    "\n",
    "# This function returns an object of Test\n",
    "def fun():\n",
    "    return Test()\n",
    "\n",
    "# Driver code to test above method\n",
    "t = fun()\n",
    "print(t.str)\n",
    "print(t.x)\n"
   ]
  },
  {
   "cell_type": "markdown",
   "id": "30cb4a4f",
   "metadata": {},
   "source": [
    ">   **`ii) Using Tuple:`**\n",
    ">- A Tuple is a comma separated sequence of items. It is created with or without (). Tuples are immutable.\n",
    ">- **Example:**"
   ]
  },
  {
   "cell_type": "code",
   "execution_count": 9,
   "id": "58e127b7",
   "metadata": {
    "ExecuteTime": {
     "end_time": "2023-06-21T04:25:07.865471Z",
     "start_time": "2023-06-21T04:25:07.847070Z"
    }
   },
   "outputs": [
    {
     "name": "stdout",
     "output_type": "stream",
     "text": [
      "Python\n",
      "1111\n"
     ]
    }
   ],
   "source": [
    "# A Python program to return multiple values from a method using tuple\n",
    "\n",
    "# This function returns a tuple\n",
    "def fun():\n",
    "    str = \"Python\"\n",
    "    x = 1111\n",
    "    return str, x # Return tuple, we could also write (str, x)\n",
    "\n",
    "# Driver code to test above method\n",
    "str, x = fun() # Assign returned tuple\n",
    "print(str)\n",
    "print(x)\n"
   ]
  },
  {
   "cell_type": "markdown",
   "id": "23f26435",
   "metadata": {},
   "source": [
    ">   **`iii) Using List:`**\n",
    ">- A list is like an array of items created using square brackets. They are different from arrays as they can contain items of different types. Lists are different from tuples as they are mutable. \n",
    ">- **Example:**"
   ]
  },
  {
   "cell_type": "code",
   "execution_count": 11,
   "id": "bcbe8ed2",
   "metadata": {
    "ExecuteTime": {
     "end_time": "2023-06-21T04:25:48.712762Z",
     "start_time": "2023-06-21T04:25:48.701421Z"
    }
   },
   "outputs": [
    {
     "name": "stdout",
     "output_type": "stream",
     "text": [
      "['Python', 1111]\n"
     ]
    }
   ],
   "source": [
    "# A Python program to return multiple values from a method using list\n",
    "\n",
    "# This function returns a list\n",
    "def fun():\n",
    "    str = \"Python\"\n",
    "    x = 1111\n",
    "    return [str, x]\n",
    "\n",
    "# Driver code to test above method\n",
    "list = fun()\n",
    "print(list)\n"
   ]
  },
  {
   "cell_type": "markdown",
   "id": "79337b19",
   "metadata": {},
   "source": [
    ">   **`iv) Using Dictionary:`**\n",
    ">- A Dictionary is similar to hash or map in other languages. See this for details of dictionary. \n",
    ">- **Example:**"
   ]
  },
  {
   "cell_type": "code",
   "execution_count": 13,
   "id": "dc943c11",
   "metadata": {
    "ExecuteTime": {
     "end_time": "2023-06-21T04:28:02.291973Z",
     "start_time": "2023-06-21T04:28:02.271475Z"
    }
   },
   "outputs": [
    {
     "name": "stdout",
     "output_type": "stream",
     "text": [
      "{'str': 'Python', 'x': 1111}\n"
     ]
    }
   ],
   "source": [
    "# A Python program to return multiple values from a method using dictionary\n",
    "\n",
    "# This function returns a dictionary\n",
    "def fun():\n",
    "    d = dict();\n",
    "    d['str'] = \"Python\"\n",
    "    d['x'] = 1111\n",
    "    return d\n",
    "\n",
    "# Driver code to test above method\n",
    "d = fun()\n",
    "print(d)\n"
   ]
  },
  {
   "cell_type": "markdown",
   "id": "8bbec821",
   "metadata": {},
   "source": [
    ">   **`v) Using Data Class:`**\n",
    ">- In Python 3.7 and above the Data Class can be used to return a class with automatically added unique methods. The Data Class module has a decorator and functions for automatically adding generated special methods such as __init__() and __repr__() in the user-defined classes. \n",
    ">- **Example:**"
   ]
  },
  {
   "cell_type": "code",
   "execution_count": 24,
   "id": "033013b1",
   "metadata": {
    "ExecuteTime": {
     "end_time": "2023-06-21T04:37:43.361077Z",
     "start_time": "2023-06-21T04:37:43.343386Z"
    }
   },
   "outputs": [
    {
     "name": "stdout",
     "output_type": "stream",
     "text": [
      "5000\n",
      "Book_list(name='Introduction to Python.', perunit_cost=1000, quantity_available=5)\n"
     ]
    },
    {
     "data": {
      "text/plain": [
       "Book_list(name='Python Programming.', perunit_cost=2000, quantity_available=5)"
      ]
     },
     "execution_count": 24,
     "metadata": {},
     "output_type": "execute_result"
    }
   ],
   "source": [
    "from dataclasses import dataclass\n",
    "\n",
    "@dataclass\n",
    "class Book_list:\n",
    "    name: str\n",
    "    perunit_cost: float\n",
    "    quantity_available: int = 0\n",
    "\n",
    "    # function to calculate total cost\t\n",
    "    def total_cost(self) -> float:\n",
    "        return self.perunit_cost * self.quantity_available\n",
    "    \n",
    "book = Book_list(\"Introduction to Python.\", 1000, 5)\n",
    "x = book.total_cost()\n",
    "\n",
    "# print the total cost of the book\n",
    "print(x)\n",
    "\n",
    "# print book details\n",
    "print(book)\n",
    "\n",
    "# 900\n",
    "Book_list(name='Python Programming.',\n",
    "        perunit_cost=2000,\n",
    "        quantity_available=5)\n"
   ]
  },
  {
   "cell_type": "markdown",
   "id": "b3144149",
   "metadata": {},
   "source": [
    ">   **`vi) Using Using generator ‘yield’:`**\n",
    ">- One alternative approach for returning multiple values from a function in Python is to use the yield keyword in a generator function. A generator function is a special type of function that returns an iterator object, which generates a sequence of values on the fly, one value at a time.\n",
    ">- To return multiple values from a generator function, you can use the yield keyword to yield each value in turn. The generator function will then pause execution until the next value is requested, at which point it will resume execution and yield the next value. This process continues until the generator function completes execution or encounters a return statement.\n",
    ">- **Example:**"
   ]
  },
  {
   "cell_type": "code",
   "execution_count": 25,
   "id": "ec1e9571",
   "metadata": {
    "ExecuteTime": {
     "end_time": "2023-06-21T04:38:27.999441Z",
     "start_time": "2023-06-21T04:38:27.986352Z"
    }
   },
   "outputs": [
    {
     "name": "stdout",
     "output_type": "stream",
     "text": [
      "42\n",
      "hello\n",
      "[1, 2, 3]\n"
     ]
    }
   ],
   "source": [
    "def get_values():\n",
    "    yield 42\n",
    "    yield 'hello'\n",
    "    yield [1, 2, 3]\n",
    "\n",
    "# Test code\n",
    "result = get_values()\n",
    "print(next(result)) # should print 42\n",
    "print(next(result)) # should print 'hello'\n",
    "print(next(result)) # should print [1, 2, 3]\n"
   ]
  },
  {
   "cell_type": "markdown",
   "id": "f2a0f75e",
   "metadata": {},
   "source": [
    " ### 7. What is the difference between the \"pass by value\" and \"pass by reference\" concepts when it comes to function arguments in Python?"
   ]
  },
  {
   "cell_type": "markdown",
   "id": "24a4024c",
   "metadata": {},
   "source": [
    "**`Ans-7`**\n",
    "\n",
    "> - The main difference between pass by value and pass by reference is that, in a pass by value, the parameter value copies to another variable while, in a pass by reference, the actual parameter passes to the function.\n",
    ">- When we define a custom or user defined function in Python we may, optionally we may need to specify parameter names between the function’s parentheses.\n",
    ">- If we specify parameters in the function definition, then we need to pass argument values to the function’s parameters while calling it.\n",
    ">- The function use that passed values during its execution by referencing it via parameter name.\n",
    ">- The `Callee` is a function called by another and the `caller` is a function that calls another function (the callee).\n",
    "            The values that are passed in the function call are called the actual parameters.\n",
    "            The values received by the function (when it is called ) are called the formal parameters.\n",
    ">- Basically, there are two ways to pass argument values to the function’s parameters. They are:\n",
    "            i) Call/Pass by Value\n",
    "            ii) Call/Pass by Reference\n",
    "\n",
    "\n",
    "> **`i) Pass by Value:`**\n",
    ">- In pass by value (also known as call by value), the argument passed to the function is the copy of of its original object. If we change or update the value of object inside the function, then original object will not change.\n",
    ">- If the argument is variable, the copy of the current value of the variable is passed to the function’s parameter. The value of the variable in the function call is not affected by what happens inside the function.\n",
    ">- Some of the programming languages like C++, Java uses call by value or pass by value concept to pass argument values to the function’s parameters.\n",
    ">- If the argument is passed by value, a copy of it is made and passed to the function. If the argument values being passed to the function is large, the copying can take up a lot of time and memory.\n",
    ">- That’s why `Python language does not support the pass by value` concept.\n",
    "\n",
    "> **`ii) Pass by Reference:`**\n",
    ">- In pass by reference (also known as call by reference), the argument passed to the function’s parameter is the original object. If we change the value of object inside the function, the original object will also change.\n",
    ">- The scripting language like JavaScript uses the pass by reference mechanism to pass an object as an argument to the function. \n",
    ">- That’s why `Python language does not support the pass by reference` mechanism to pass argument to the function."
   ]
  },
  {
   "cell_type": "markdown",
   "id": "c9e22ba3",
   "metadata": {},
   "source": [
    " ### 8. Create a function that can intake integer or decimal value and do following operations:\n",
    "        a. Logarithmic function (log x)\n",
    "        b. Exponential function (exp(x))\n",
    "        c. Power function with base 2 (2x)\n",
    "        d. Square root"
   ]
  },
  {
   "cell_type": "markdown",
   "id": "cf2eafaa",
   "metadata": {
    "ExecuteTime": {
     "end_time": "2023-06-21T10:42:38.856135Z",
     "start_time": "2023-06-21T10:42:38.845147Z"
    }
   },
   "source": [
    "**`Ans-8`**"
   ]
  },
  {
   "cell_type": "code",
   "execution_count": 26,
   "id": "0e249d34",
   "metadata": {
    "ExecuteTime": {
     "end_time": "2023-06-21T10:46:53.948309Z",
     "start_time": "2023-06-21T10:46:53.940301Z"
    }
   },
   "outputs": [
    {
     "name": "stdout",
     "output_type": "stream",
     "text": [
      "The logarithmic value of `100` with base `3` is :  4\n"
     ]
    }
   ],
   "source": [
    "# Logarithmic function (log x)\n",
    "\n",
    "import math\n",
    "def log_num(x, b):\n",
    "    log_result  = math.log(x) // math.log(b)         # x = given number, b=logarithmic base\n",
    "    return log_result\n",
    "\n",
    "x = 100\n",
    "b = 3\n",
    "\n",
    "print(f\"The logarithmic value of `{x}` with base `{b}` is :  {int(log_num(x, b))}\")"
   ]
  },
  {
   "cell_type": "code",
   "execution_count": 27,
   "id": "d1777251",
   "metadata": {
    "ExecuteTime": {
     "end_time": "2023-06-21T10:46:54.560707Z",
     "start_time": "2023-06-21T10:46:54.549754Z"
    }
   },
   "outputs": [
    {
     "name": "stdout",
     "output_type": "stream",
     "text": [
      "The exponential value of `10` is :  22026\n"
     ]
    }
   ],
   "source": [
    "# Exponential function (exp(x))\n",
    "\n",
    "import math\n",
    "def exp_num(x):\n",
    "    exp_result  = math.exp( x )         # x = given number\n",
    "    return exp_result\n",
    "\n",
    "x = 10\n",
    "\n",
    "print(f\"The exponential value of `{x}` is :  {int(exp_num(x))}\")"
   ]
  },
  {
   "cell_type": "code",
   "execution_count": 28,
   "id": "3f0eb917",
   "metadata": {
    "ExecuteTime": {
     "end_time": "2023-06-21T10:46:55.087287Z",
     "start_time": "2023-06-21T10:46:55.077266Z"
    }
   },
   "outputs": [
    {
     "name": "stdout",
     "output_type": "stream",
     "text": [
      "The powe of `2` with base `2` is :  4\n"
     ]
    }
   ],
   "source": [
    "# Power function with base 2 (2x)\n",
    "\n",
    "import math\n",
    "def pow_num(x):\n",
    "    pow_result  = math.pow(x, y)         # x = base, y=exponent\n",
    "    return pow_result\n",
    "\n",
    "x = 2\n",
    "y=2\n",
    "\n",
    "print(f\"The powe of `{x}` with base `{x}` is :  {int(pow_num(x))}\")"
   ]
  },
  {
   "cell_type": "code",
   "execution_count": 29,
   "id": "4b14c9d4",
   "metadata": {
    "ExecuteTime": {
     "end_time": "2023-06-21T10:46:55.612234Z",
     "start_time": "2023-06-21T10:46:55.592234Z"
    }
   },
   "outputs": [
    {
     "name": "stdout",
     "output_type": "stream",
     "text": [
      "The square root  of `25` is :  5\n"
     ]
    }
   ],
   "source": [
    "# Square root\n",
    "\n",
    "import math\n",
    "def sqrt_num(x):\n",
    "    sqrt_result  = math.sqrt(x)         # x = number\n",
    "    return sqrt_result\n",
    "\n",
    "x = 25\n",
    "\n",
    "print(f\"The square root  of `{x}` is :  {int(sqrt_num(x))}\")"
   ]
  },
  {
   "cell_type": "markdown",
   "id": "19e901ac",
   "metadata": {},
   "source": [
    "### 9. Create a function that takes a full name as an argument and returns first name and last name"
   ]
  },
  {
   "cell_type": "markdown",
   "id": "092bf319",
   "metadata": {},
   "source": [
    "**`Ans-9`**"
   ]
  },
  {
   "cell_type": "code",
   "execution_count": 46,
   "id": "9f790171",
   "metadata": {
    "ExecuteTime": {
     "end_time": "2023-06-21T10:56:47.292859Z",
     "start_time": "2023-06-21T10:56:47.281930Z"
    }
   },
   "outputs": [
    {
     "name": "stdout",
     "output_type": "stream",
     "text": [
      "The FIRST name is: Vikas\n",
      "The LAST name is: Tejas\n"
     ]
    }
   ],
   "source": [
    "def full_name(name):\n",
    "    f_name = name.split()[0]\n",
    "    l_name  = name.split()[1]\n",
    "    name_list = [f_name, l_name]\n",
    "    \n",
    "    return name_list[0], name_list[1]\n",
    "\n",
    "my_name = full_name('Sachin Dodake')\n",
    "\n",
    "print(f\"The FIRST name is: {my_name[0]}\")\n",
    "print(f\"The LAST name is: {my_name[1]}\")"
   ]
  },
  {
   "cell_type": "code",
   "execution_count": null,
   "id": "4ac58fdb",
   "metadata": {},
   "outputs": [],
   "source": []
  }
 ],
 "metadata": {
  "hide_input": false,
  "kernelspec": {
   "display_name": "Python 3 (ipykernel)",
   "language": "python",
   "name": "python3"
  },
  "language_info": {
   "codemirror_mode": {
    "name": "ipython",
    "version": 3
   },
   "file_extension": ".py",
   "mimetype": "text/x-python",
   "name": "python",
   "nbconvert_exporter": "python",
   "pygments_lexer": "ipython3",
   "version": "3.10.9"
  },
  "varInspector": {
   "cols": {
    "lenName": 16,
    "lenType": 16,
    "lenVar": 40
   },
   "kernels_config": {
    "python": {
     "delete_cmd_postfix": "",
     "delete_cmd_prefix": "del ",
     "library": "var_list.py",
     "varRefreshCmd": "print(var_dic_list())"
    },
    "r": {
     "delete_cmd_postfix": ") ",
     "delete_cmd_prefix": "rm(",
     "library": "var_list.r",
     "varRefreshCmd": "cat(var_dic_list()) "
    }
   },
   "types_to_exclude": [
    "module",
    "function",
    "builtin_function_or_method",
    "instance",
    "_Feature"
   ],
   "window_display": false
  }
 },
 "nbformat": 4,
 "nbformat_minor": 5
}
